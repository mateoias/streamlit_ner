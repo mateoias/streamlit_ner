{
 "cells": [
  {
   "cell_type": "code",
   "execution_count": 75,
   "metadata": {},
   "outputs": [],
   "source": [
    "import os\n",
    "import streamlit as st\n",
    "import pandas as pd\n",
    "import spacy\n",
    "from spacy import displacy\n",
    "nlp = spacy.load('en_core_web_trf')"
   ]
  },
  {
   "cell_type": "code",
   "execution_count": 90,
   "metadata": {},
   "outputs": [],
   "source": [
    "data = []\n",
    "\n",
    "def results(text):\n",
    "    doc = nlp(text)\n",
    "    prediction = []\n",
    "    ent_to_keep = [\"PERSON\", \"NORP\", \"FAC\", \"ORG\", \"GPE\", \"LOC\", \"PRODUCT\",\n",
    "       \"EVENT\", \"WORK_OF_ART\", \"LANGUAGE\", \"MONEY\", \"LAW\"]\n",
    "    for ent in doc.ents: \n",
    "        entity = (ent.text, ent.label_)\n",
    "        if ent.label_ in ent_to_keep:\n",
    "            prediction.append(entity)\n",
    "            old = entity[0]\n",
    "            new = entity[0] + \" \" + \"(\" + entity[1] + \")\"\n",
    "            text = text.replace(old, new)\n",
    "\n",
    "    if len(prediction) == 0:\n",
    "        prediction =\"There were no recognizable entities\"       \n",
    "    return prediction, text"
   ]
  },
  {
   "cell_type": "code",
   "execution_count": 91,
   "metadata": {},
   "outputs": [],
   "source": [
    "text = \"As Texas was battered by an icy storm and widespread power losses that left millions of residents freezing and fearing for their safety, Senator Ted Cruz of Texas left the state on Wednesday and traveled to Mexico for a previously planned family vacation, according to a person with direct knowledge of the trip.\"\n",
    "results = results(text)"
   ]
  },
  {
   "cell_type": "code",
   "execution_count": 92,
   "metadata": {},
   "outputs": [
    {
     "data": {
      "text/plain": [
       "([('Texas', 'GPE'),\n",
       "  ('Ted Cruz', 'PERSON'),\n",
       "  ('Texas', 'GPE'),\n",
       "  ('Mexico', 'GPE')],\n",
       " 'As Texas (GPE) (GPE) was battered by an icy storm and widespread power losses that left millions of residents freezing and fearing for their safety, Senator Ted Cruz (PERSON) of Texas left the state on Wednesday and traveled to Mexico (GPE) for a previously planned family vacation, according to a person with direct knowledge of the trip.')"
      ]
     },
     "execution_count": 92,
     "metadata": {},
     "output_type": "execute_result"
    }
   ],
   "source": [
    "results"
   ]
  },
  {
   "cell_type": "code",
   "execution_count": null,
   "metadata": {},
   "outputs": [],
   "source": []
  },
  {
   "cell_type": "code",
   "execution_count": 53,
   "metadata": {},
   "outputs": [
    {
     "name": "stdout",
     "output_type": "stream",
     "text": [
      "geeks for geeks geeks geeks geeks\n",
      "Geeks for Geeks Geeks Geeks Geeks\n",
      "GeeksforGeeks for GeeksforGeeks GeeksforGeeks geeks geeks\n"
     ]
    }
   ],
   "source": [
    "string = \"geeks for geeks geeks geeks geeks\" \n",
    "print (string)  \n",
    "# Prints the string by replacing geeks by Geeks  \n",
    "print(string.replace(\"geeks\", \"Geeks\"))  \n",
    "  \n",
    "# Prints the string by replacing only 3 occurrence of Geeks   \n",
    "print(string.replace(\"geeks\", \"GeeksforGeeks\", 3)) "
   ]
  },
  {
   "cell_type": "code",
   "execution_count": null,
   "metadata": {},
   "outputs": [],
   "source": []
  }
 ],
 "metadata": {
  "kernelspec": {
   "display_name": "Python 3",
   "language": "python",
   "name": "python3"
  },
  "language_info": {
   "codemirror_mode": {
    "name": "ipython",
    "version": 3
   },
   "file_extension": ".py",
   "mimetype": "text/x-python",
   "name": "python",
   "nbconvert_exporter": "python",
   "pygments_lexer": "ipython3",
   "version": "3.7.7"
  }
 },
 "nbformat": 4,
 "nbformat_minor": 4
}
